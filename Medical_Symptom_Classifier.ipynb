{
  "nbformat": 4,
  "nbformat_minor": 0,
  "metadata": {
    "colab": {
      "provenance": []
    },
    "kernelspec": {
      "name": "python3",
      "display_name": "Python 3"
    },
    "language_info": {
      "name": "python"
    }
  },
  "cells": [
    {
      "cell_type": "markdown",
      "source": [
        "# STEP 0: Install dependencies"
      ],
      "metadata": {
        "id": "K3yWWtQ8cC4i"
      }
    },
    {
      "cell_type": "code",
      "source": [
        "!pip install -qU google-generativeai==0.8.5 google-ai-generativelanguage==0.6.15 \\\n",
        "langgraph langchain langchain-google-genai openai"
      ],
      "metadata": {
        "colab": {
          "base_uri": "https://localhost:8080/"
        },
        "id": "SCoOKgPgBht-",
        "outputId": "41d7b6d7-bf3d-4018-9da3-7e4adef22b42"
      },
      "execution_count": 2,
      "outputs": [
        {
          "output_type": "stream",
          "name": "stdout",
          "text": [
            "\u001b[2K     \u001b[90m━━━━━━━━━━━━━━━━━━━━━━━━━━━━━━━━━━━━━━━━\u001b[0m \u001b[32m43.7/43.7 kB\u001b[0m \u001b[31m2.3 MB/s\u001b[0m eta \u001b[36m0:00:00\u001b[0m\n",
            "\u001b[2K   \u001b[90m━━━━━━━━━━━━━━━━━━━━━━━━━━━━━━━━━━━━━━━━\u001b[0m \u001b[32m143.8/143.8 kB\u001b[0m \u001b[31m4.8 MB/s\u001b[0m eta \u001b[36m0:00:00\u001b[0m\n",
            "\u001b[2K   \u001b[90m━━━━━━━━━━━━━━━━━━━━━━━━━━━━━━━━━━━━━━━━\u001b[0m \u001b[32m42.0/42.0 kB\u001b[0m \u001b[31m2.5 MB/s\u001b[0m eta \u001b[36m0:00:00\u001b[0m\n",
            "\u001b[2K   \u001b[90m━━━━━━━━━━━━━━━━━━━━━━━━━━━━━━━━━━━━━━━━\u001b[0m \u001b[32m755.6/755.6 kB\u001b[0m \u001b[31m20.0 MB/s\u001b[0m eta \u001b[36m0:00:00\u001b[0m\n",
            "\u001b[2K   \u001b[90m━━━━━━━━━━━━━━━━━━━━━━━━━━━━━━━━━━━━━━━━\u001b[0m \u001b[32m43.8/43.8 kB\u001b[0m \u001b[31m2.5 MB/s\u001b[0m eta \u001b[36m0:00:00\u001b[0m\n",
            "\u001b[2K   \u001b[90m━━━━━━━━━━━━━━━━━━━━━━━━━━━━━━━━━━━━━━━━\u001b[0m \u001b[32m50.2/50.2 kB\u001b[0m \u001b[31m3.2 MB/s\u001b[0m eta \u001b[36m0:00:00\u001b[0m\n",
            "\u001b[2K   \u001b[90m━━━━━━━━━━━━━━━━━━━━━━━━━━━━━━━━━━━━━━━━\u001b[0m \u001b[32m216.5/216.5 kB\u001b[0m \u001b[31m12.9 MB/s\u001b[0m eta \u001b[36m0:00:00\u001b[0m\n",
            "\u001b[?25h"
          ]
        }
      ]
    },
    {
      "cell_type": "markdown",
      "source": [
        "# STEP 1: Imports and secure API key input"
      ],
      "metadata": {
        "id": "XvoFPl11cFhj"
      }
    },
    {
      "cell_type": "code",
      "source": [
        "import os\n",
        "import getpass\n",
        "from langgraph.graph import StateGraph, END\n",
        "from langchain_google_genai import ChatGoogleGenerativeAI\n",
        "from langchain_core.messages import HumanMessage"
      ],
      "metadata": {
        "id": "JiaBRQ-ECte0"
      },
      "execution_count": 4,
      "outputs": []
    },
    {
      "cell_type": "markdown",
      "source": [
        "\n",
        "# Secure Gemini API Key input"
      ],
      "metadata": {
        "id": "W28u20SxcIiH"
      }
    },
    {
      "cell_type": "code",
      "source": [
        "os.environ['GOOGLE_API_KEY'] = getpass.getpass('Please enter your Gemini API key: ')"
      ],
      "metadata": {
        "colab": {
          "base_uri": "https://localhost:8080/"
        },
        "id": "blsDeDinFjaE",
        "outputId": "0cf473d9-2ccf-4668-cf41-79cf650f59a2"
      },
      "execution_count": 6,
      "outputs": [
        {
          "name": "stdout",
          "output_type": "stream",
          "text": [
            "Please enter your Gemini API key: ··········\n"
          ]
        }
      ]
    },
    {
      "cell_type": "markdown",
      "source": [
        "# STEP 2: Initialize Gemini 1.5 Flash"
      ],
      "metadata": {
        "id": "eusINPuVcLXp"
      }
    },
    {
      "cell_type": "code",
      "source": [
        "llm = ChatGoogleGenerativeAI(model='models/gemini-1.5-flash-latest',temperature=0.2)"
      ],
      "metadata": {
        "id": "mKkkqY96Gx9g"
      },
      "execution_count": 8,
      "outputs": []
    },
    {
      "cell_type": "markdown",
      "source": [
        "# STEP 3: Node to ask user for symptom"
      ],
      "metadata": {
        "id": "o07zbkLWcOVW"
      }
    },
    {
      "cell_type": "code",
      "source": [
        "def get_symptom(state:dict) -> dict:\n",
        "  symptom = input(\"Welcome to XYZ hospital, Please enter your symptom: \")\n",
        "  state['symptom'] = symptom\n",
        "  return state"
      ],
      "metadata": {
        "id": "FgncdeVQIp0F"
      },
      "execution_count": 9,
      "outputs": []
    },
    {
      "cell_type": "markdown",
      "source": [
        "# STEP 4: Node to classify the symptom"
      ],
      "metadata": {
        "id": "0KIzyYPVcRVm"
      }
    },
    {
      "cell_type": "code",
      "source": [
        "def classify_symptom(state:dict) -> dict:\n",
        "  prompt=(\n",
        "      \"You are a helpful Medical Assitant, Classify the symptoms below into one of the categories \\n\"\n",
        "      \"-General\\n- Emergency \\n -mental health \\n\"\n",
        "      f\"Symptom:{state['symptom']} \\n\"\n",
        "      \"Respond only with one word : General, Emergency, Mental Health\"\n",
        "      \"#Example: input: I have fever, Output: General\"\n",
        "  )\n",
        "\n",
        "  response = llm.invoke([HumanMessage(content=prompt)])\n",
        "  category = response.content.strip()\n",
        "  print(f\"LLM classifies the symptom as : {category}\") #debug\n",
        "  state['category'] = category\n",
        "  return state"
      ],
      "metadata": {
        "id": "YLMNvzEAJbS0"
      },
      "execution_count": 10,
      "outputs": []
    },
    {
      "cell_type": "markdown",
      "source": [
        "# STEP 5: Router logic to route to the correct node\n"
      ],
      "metadata": {
        "id": "kESmxbnicWpS"
      }
    },
    {
      "cell_type": "code",
      "source": [
        "def symptom_router(state:dict) -> dict:\n",
        "  cat = state['category'].lower()  #General , general , Mental mental\n",
        "  if \"general\" in cat:\n",
        "    return \"general\"\n",
        "\n",
        "  elif \"mental\" in cat:\n",
        "    return \"mental_health\"\n",
        "\n",
        "  elif \"emergency\" in cat:\n",
        "    return \"emergency\"\n",
        "\n",
        "  else:\n",
        "    return \"general\""
      ],
      "metadata": {
        "id": "gUk0b-W-MtE1"
      },
      "execution_count": 11,
      "outputs": []
    },
    {
      "cell_type": "markdown",
      "source": [
        "# STEP 6: Category-specific response nodes\n"
      ],
      "metadata": {
        "id": "cZuR4VGscake"
      }
    },
    {
      "cell_type": "code",
      "source": [
        "def general_node(state:dict) -> dict:\n",
        "  state[\"answer\"] = f\" '{state['symptom']}': seems general : directing you to general ward for consulting a doctor\"\n",
        "  return state\n",
        "\n",
        "def emergency_node(state:dict) -> dict:\n",
        "  state[\"answer\"] = f\" '{state['symptom']}': It is Medical Emergency : seeking immediate help\"\n",
        "  return state\n",
        "\n",
        "def mental_health_node(state:dict) -> dict:\n",
        "  state[\"answer\"] = f\" '{state['symptom']}': seems like a medical health issue: talk to our counsellor \"\n",
        "  return state"
      ],
      "metadata": {
        "id": "mzMQgYdlOWTH"
      },
      "execution_count": 12,
      "outputs": []
    },
    {
      "cell_type": "markdown",
      "source": [
        "# STEP 7: Build LangGraph\n"
      ],
      "metadata": {
        "id": "I1ek0SwzcehS"
      }
    },
    {
      "cell_type": "code",
      "source": [
        "builder = StateGraph(dict)\n",
        "#define the nodes\n",
        "builder.add_node(\"get_symptom\", get_symptom)\n",
        "builder.add_node(\"classify\", classify_symptom)\n",
        "builder.add_node(\"general\", general_node)\n",
        "builder.add_node(\"emergency\", emergency_node)\n",
        "builder.add_node(\"mental_health\", mental_health_node)\n",
        "\n",
        "builder.set_entry_point(\"get_symptom\")\n",
        "builder.add_edge(\"get_symptom\", \"classify\")\n",
        "builder.add_conditional_edges(\"classify\",symptom_router,{\n",
        "    \"general\":\"general\",\n",
        "    \"emergency\":\"emergency\",\n",
        "    \"mental_health\":\"mental_health\"\n",
        "})\n",
        "\n",
        "builder.add_edge(\"general\",END)\n",
        "builder.add_edge(\"emergency\",END)\n",
        "builder.add_edge(\"mental_health\",END)"
      ],
      "metadata": {
        "colab": {
          "base_uri": "https://localhost:8080/"
        },
        "id": "9EYQYfx8PuSL",
        "outputId": "5e955e77-5199-4d24-82b4-0e9b5912d9b8"
      },
      "execution_count": 18,
      "outputs": [
        {
          "output_type": "execute_result",
          "data": {
            "text/plain": [
              "<langgraph.graph.state.StateGraph at 0x7d4d0f540790>"
            ]
          },
          "metadata": {},
          "execution_count": 18
        }
      ]
    },
    {
      "cell_type": "markdown",
      "source": [
        "# STEP 8: Compile and invoke the graph\n"
      ],
      "metadata": {
        "id": "GbAgCeZYci5k"
      }
    },
    {
      "cell_type": "code",
      "source": [
        "graph = builder.compile()\n",
        "final_state = graph.invoke({\"symptom\":\"\"}) # Pass an empty dictionary as initial state\n",
        "print(\"final output \\n\")\n",
        "print(final_state[\"answer\"])"
      ],
      "metadata": {
        "colab": {
          "base_uri": "https://localhost:8080/"
        },
        "id": "tgmrtVIdSc0M",
        "outputId": "4ccc9fe7-85b8-45d8-dfc6-d8d5649aba3e"
      },
      "execution_count": 21,
      "outputs": [
        {
          "output_type": "stream",
          "name": "stdout",
          "text": [
            "Welcome to XYZ hospital, Please enter your symptom: I am sad as my friend Aamir got failed in exam\n",
            "LLM classifies the symptom as : Mental Health\n",
            "final output \n",
            "\n",
            " 'I am sad as my friend Aamir got failed in exam': seems like a medical health issue: talk to our counsellor \n"
          ]
        }
      ]
    },
    {
      "cell_type": "code",
      "source": [
        "graph = builder.compile()\n",
        "mermaid_graph=graph.get_graph()"
      ],
      "metadata": {
        "id": "h0K8qsZ_UPzU"
      },
      "execution_count": null,
      "outputs": []
    }
  ]
}